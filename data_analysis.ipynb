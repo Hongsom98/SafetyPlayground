{
 "cells": [
  {
   "cell_type": "code",
   "execution_count": 17,
   "metadata": {},
   "outputs": [],
   "source": [
    "import pandas as pd\n",
    "import numpy as np\n",
    "from sklearn.model_selection import train_test_split\n",
    "from sklearn.ensemble import RandomForestClassifier\n",
    "from sklearn.linear_model import LogisticRegression\n",
    "from sklearn import metrics\n",
    "from sklearn.metrics import classification_report\n",
    "from sklearn.metrics import confusion_matrix\n",
    "from sklearn.metrics import roc_curve\n",
    "import matplotlib.pyplot as plt"
   ]
  },
  {
   "cell_type": "code",
   "execution_count": 35,
   "metadata": {},
   "outputs": [],
   "source": [
    "train = pd.read_csv('2021_training.csv', encoding='ms949')\n",
    "test = pd.read_csv('2021_testing.csv', encoding='ms949')\n",
    "training = train[['HorseNum', 'HorseAge', 'Weight', 'HorseWeight', 'Top1Win', 'Top2Win', 'Distance', 'S1F', 'Cornor3', 'G3F', 'Cornor4',\n",
    "                     'HorseWin','HorseRankInTop2', 'HorseRankInTop3', 'Cutted','Male','Female', 'Good','Rain','Fog']]\n",
    "testing = test[['HorseNum', 'HorseAge', 'Weight', 'HorseWeight', 'Top1Win', 'Top2Win', 'Distance', 'S1F', 'Cornor3', 'G3F', 'Cornor4',\n",
    "                     'HorseWin','HorseRankInTop2', 'HorseRankInTop3', 'Cutted','Male','Female', 'Good','Rain','Fog']]"
   ]
  },
  {
   "cell_type": "code",
   "execution_count": 36,
   "metadata": {},
   "outputs": [],
   "source": [
    "rf_model = RandomForestClassifier(n_estimators=500, max_depth=25, max_features='auto', bootstrap=False,class_weight='balanced_subsample')"
   ]
  },
  {
   "cell_type": "code",
   "execution_count": 57,
   "metadata": {},
   "outputs": [],
   "source": [
    "X_train = training[['HorseNum', 'HorseAge', 'Weight', 'HorseWeight', 'Top1Win', 'Top2Win', 'Distance', 'S1F', 'Cornor3', 'G3F', 'Cornor4',\n",
    "                    'Cutted','Male','Female', 'Good','Rain','Fog']]\n",
    "y_train = training[['HorseWin','HorseRankInTop2', 'HorseRankInTop3']]\n",
    "X_test = testing[['HorseNum', 'HorseAge', 'Weight', 'HorseWeight', 'Top1Win', 'Top2Win', 'Distance', 'S1F', 'Cornor3', 'G3F', 'Cornor4',\n",
    "                    'Cutted','Male','Female', 'Good','Rain','Fog']]\n",
    "y_test = testing[['HorseWin','HorseRankInTop2', 'HorseRankInTop3']]"
   ]
  },
  {
   "cell_type": "code",
   "execution_count": 58,
   "metadata": {},
   "outputs": [],
   "source": [
    "rf_model.fit(X_train,y_train['HorseWin'])\n",
    "rf_Win = rf_model.predict(X_test)\n",
    "rf_model.fit(X_train,y_train['HorseRankInTop2'])\n",
    "rf_Top2 = rf_model.predict(X_test)\n",
    "rf_model.fit(X_train,y_train['HorseRankInTop3'])\n",
    "rf_Top3 = rf_model.predict(X_test)"
   ]
  },
  {
   "cell_type": "code",
   "execution_count": 59,
   "metadata": {
    "pycharm": {
     "name": "#%%\n"
    }
   },
   "outputs": [],
   "source": [
    "d = pd.DataFrame()\n",
    "d['HorseName'] = test['HorseName']\n",
    "d['HorseWin'] = rf_Win\n",
    "d['HorseRankInTop2'] = rf_Top2\n",
    "d['HorseRankInTop3'] = rf_Top3\n",
    "d.to_csv('rf_predictions.csv', encoding='utf-8-sig')"
   ]
  },
  {
   "cell_type": "code",
   "execution_count": null,
   "metadata": {},
   "outputs": [],
   "source": []
  }
 ],
 "metadata": {
  "kernelspec": {
   "display_name": "Python 3",
   "language": "python",
   "name": "python3"
  },
  "language_info": {
   "codemirror_mode": {
    "name": "ipython",
    "version": 3
   },
   "file_extension": ".py",
   "mimetype": "text/x-python",
   "name": "python",
   "nbconvert_exporter": "python",
   "pygments_lexer": "ipython3",
   "version": "3.8.5"
  }
 },
 "nbformat": 4,
 "nbformat_minor": 1
}